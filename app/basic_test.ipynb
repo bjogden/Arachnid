{
 "cells": [
  {
   "cell_type": "code",
   "execution_count": 1,
   "id": "1d6b4ea7",
   "metadata": {},
   "outputs": [],
   "source": [
    "from arachnid import Arachnid"
   ]
  },
  {
   "cell_type": "code",
   "execution_count": 2,
   "id": "d2ac6037",
   "metadata": {},
   "outputs": [],
   "source": [
    "arachnid = Arachnid()"
   ]
  },
  {
   "cell_type": "code",
   "execution_count": 3,
   "id": "f5edc59c",
   "metadata": {},
   "outputs": [
    {
     "name": "stdout",
     "output_type": "stream",
     "text": [
      "Loaded. Waiting 3 seconds...\n"
     ]
    },
    {
     "data": {
      "text/plain": [
       "<selenium.webdriver.firefox.webdriver.WebDriver (session=\"90605270-2a11-4c45-8b5b-0e6a0afca401\")>"
      ]
     },
     "execution_count": 3,
     "metadata": {},
     "output_type": "execute_result"
    }
   ],
   "source": [
    "arachnid.get('https://www.bing.com/images/search?q=Texas%20Ashe%20tree')\n",
    "# driver.page_source"
   ]
  },
  {
   "cell_type": "code",
   "execution_count": 4,
   "id": "ad0cd4a2",
   "metadata": {},
   "outputs": [
    {
     "data": {
      "text/plain": [
       "True"
      ]
     },
     "execution_count": 4,
     "metadata": {},
     "output_type": "execute_result"
    }
   ],
   "source": [
    "arachnid.get_screenshot('Texas_Ashe_tree.png')"
   ]
  },
  {
   "cell_type": "code",
   "execution_count": 5,
   "id": "8bd8a39b",
   "metadata": {},
   "outputs": [],
   "source": [
    "arachnid.quit()"
   ]
  }
 ],
 "metadata": {
  "kernelspec": {
   "display_name": "Python 3 (ipykernel)",
   "language": "python",
   "name": "python3"
  },
  "language_info": {
   "codemirror_mode": {
    "name": "ipython",
    "version": 3
   },
   "file_extension": ".py",
   "mimetype": "text/x-python",
   "name": "python",
   "nbconvert_exporter": "python",
   "pygments_lexer": "ipython3",
   "version": "3.9.13"
  }
 },
 "nbformat": 4,
 "nbformat_minor": 5
}
