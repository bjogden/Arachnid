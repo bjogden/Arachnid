{
 "cells": [
  {
   "cell_type": "code",
   "execution_count": 19,
   "id": "1d6b4ea7",
   "metadata": {},
   "outputs": [],
   "source": [
    "import time\n",
    "\n",
    "from selenium.webdriver import Firefox\n",
    "from selenium.webdriver.firefox.service import Service\n",
    "from selenium.webdriver.firefox.options import Options\n",
    "from typing import Union"
   ]
  },
  {
   "cell_type": "code",
   "execution_count": 34,
   "id": "a9afd25b",
   "metadata": {},
   "outputs": [],
   "source": [
    "options = Options()\n",
    "options.add_argument(\"--headless\")\n",
    "\n",
    "service = Service(\n",
    "    executable_path='/usr/bin/geckodriver',\n",
    "    log_path='logs/geckodriver.log',\n",
    ")"
   ]
  },
  {
   "cell_type": "code",
   "execution_count": 35,
   "id": "04e8eaf2",
   "metadata": {},
   "outputs": [],
   "source": [
    "class Arachnid:\n",
    "    def __init__(self) -> None:\n",
    "        self.DRIVER = Firefox(\n",
    "            options=options,\n",
    "            service=service,\n",
    "        )\n",
    "        \n",
    "        self.CURRENT_PAGE = None\n",
    "        \n",
    "    @classmethod\n",
    "    def get(cls, url: str) -> Union[Firefox, None]:\n",
    "        obj = cls()\n",
    "        \n",
    "        try:\n",
    "            obj.DRIVER.get(url)\n",
    "            # Explicit wait for page load\n",
    "            time.sleep(3)\n",
    "            \n",
    "            return obj\n",
    "\n",
    "        except Exception as e:\n",
    "            print(f'Driver `get` error {e}')\n",
    "            \n",
    "            cls.DRIVER.quit()\n",
    "        \n",
    "    def execute_js(self, js: str):\n",
    "        return self.DRIVER.execute_script(js)\n",
    "    \n",
    "    def get_screenshot(self, fname: str):\n",
    "        if not fname.endswith('.png'):\n",
    "            fname += '.png'\n",
    "            \n",
    "        return self.DRIVER.save_screenshot(fname)\n",
    "    \n",
    "    def quit(self):\n",
    "        self.DRIVER.quit()\n",
    "        self.DRIVER = None"
   ]
  },
  {
   "cell_type": "code",
   "execution_count": 36,
   "id": "f5edc59c",
   "metadata": {},
   "outputs": [],
   "source": [
    "arachnid = Arachnid.get('https://www.bing.com/images/search?q=Texas%20Ashe%20tree')\n",
    "# driver.page_source"
   ]
  },
  {
   "cell_type": "code",
   "execution_count": 40,
   "id": "ad0cd4a2",
   "metadata": {},
   "outputs": [
    {
     "data": {
      "text/plain": [
       "True"
      ]
     },
     "execution_count": 40,
     "metadata": {},
     "output_type": "execute_result"
    }
   ],
   "source": [
    "arachnid.get_screenshot('Texas_Ashe_tree.png')"
   ]
  },
  {
   "cell_type": "code",
   "execution_count": 42,
   "id": "8bd8a39b",
   "metadata": {},
   "outputs": [],
   "source": [
    "arachnid.quit()"
   ]
  },
  {
   "cell_type": "code",
   "execution_count": 43,
   "id": "4ffcd5fe",
   "metadata": {},
   "outputs": [
    {
     "data": {
      "text/plain": [
       "<selenium.webdriver.firefox.webdriver.WebDriver (session=\"c4da154e-e4fc-4c26-92e9-ed93cc6f0c5b\")>"
      ]
     },
     "execution_count": 43,
     "metadata": {},
     "output_type": "execute_result"
    }
   ],
   "source": [
    "arachnid.DRIVER"
   ]
  }
 ],
 "metadata": {
  "kernelspec": {
   "display_name": "Python 3 (ipykernel)",
   "language": "python",
   "name": "python3"
  },
  "language_info": {
   "codemirror_mode": {
    "name": "ipython",
    "version": 3
   },
   "file_extension": ".py",
   "mimetype": "text/x-python",
   "name": "python",
   "nbconvert_exporter": "python",
   "pygments_lexer": "ipython3",
   "version": "3.9.12"
  }
 },
 "nbformat": 4,
 "nbformat_minor": 5
}
